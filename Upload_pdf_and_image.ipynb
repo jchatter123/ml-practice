{
 "cells": [
  {
   "cell_type": "code",
   "execution_count": 8,
   "id": "5da21ee0",
   "metadata": {},
   "outputs": [],
   "source": [
    "import boto3\n",
    "from botocore.exceptions import ClientError\n",
    "\n",
    "bucket_name = 'chatterjeez-data-lake'\n",
    "\n",
    "pdf_object_name = 'raw-data/Progress_Tracker.pdf'\n",
    "image_object_name = 'raw-data/aws.jpeg'\n",
    "\n",
    "pdf_file_name = './Progress_Tracker.pdf'\n",
    "image_file_name = './aws.jpeg'\n",
    "\n",
    "region = 'us-west-1'\n",
    "session = boto3.Session(profile_name='default')\n",
    "s3_client = session.client('s3')\n",
    "\n",
    "# Quick guide for file upload in S3\n",
    "\n",
    "# Upload a PDF to S3\n",
    "try:\n",
    "    response = s3_client.upload_file(file_name, bucket_name, pdf_object_name)\n",
    "except ClientError as e:\n",
    "    logging.error(e)\n",
    "\n",
    "# Upload an image to S3\n",
    "try:\n",
    "    response = s3_client.upload_file(image_file_name, bucket_name, image_object_name)\n",
    "except ClientError as e:\n",
    "    logging.error(e)"
   ]
  }
 ],
 "metadata": {
  "kernelspec": {
   "display_name": "Python 3 (ipykernel)",
   "language": "python",
   "name": "python3"
  },
  "language_info": {
   "codemirror_mode": {
    "name": "ipython",
    "version": 3
   },
   "file_extension": ".py",
   "mimetype": "text/x-python",
   "name": "python",
   "nbconvert_exporter": "python",
   "pygments_lexer": "ipython3",
   "version": "3.7.2"
  }
 },
 "nbformat": 4,
 "nbformat_minor": 5
}
